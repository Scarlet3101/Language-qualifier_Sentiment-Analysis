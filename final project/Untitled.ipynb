{
 "cells": [
  {
   "cell_type": "code",
   "execution_count": 2,
   "id": "f9ef1e71-8cab-4fd5-8649-97d483da42be",
   "metadata": {},
   "outputs": [],
   "source": [
    "import pandas as pd\n",
    "import re\n",
    "from nltk.stem.wordnet import WordNetLemmatizer\n",
    "import string\n",
    "import nltk\n",
    "from nltk.corpus import stopwords\n",
    "from nltk.corpus import wordnet\n",
    "from sklearn.feature_extraction.text import CountVectorizer\n",
    "from wordcloud import WordCloud\n",
    "import matplotlib.pyplot as plt\n",
    "import seaborn as sns\n",
    "from collections import Counter\n",
    "import warnings\n",
    "warnings.filterwarnings('ignore')\n",
    "import string\n",
    "from sklearn.model_selection import train_test_split\n",
    "from sklearn.naive_bayes import MultinomialNB \n",
    "from sklearn.linear_model import LogisticRegression\n",
    "from sklearn.neighbors import KNeighborsClassifier\n",
    "from sklearn.svm import SVC\n",
    "from sklearn.tree import DecisionTreeClassifier\n",
    "from sklearn.metrics import accuracy_score\n",
    "from sklearn.preprocessing import LabelEncoder"
   ]
  },
  {
   "cell_type": "code",
   "execution_count": 79,
   "id": "0f56625e-3529-46f4-b14b-f9060017e059",
   "metadata": {},
   "outputs": [],
   "source": [
    "data = pd.read_csv('Language Detection.csv')\n",
    "# hindi_data = pd.read_csv('hindi.csv')"
   ]
  },
  {
   "cell_type": "code",
   "execution_count": 80,
   "id": "5e165757-7d7c-4660-a0f9-55647b2b5f8f",
   "metadata": {},
   "outputs": [],
   "source": [
    "# data = data.append(hindi_data,ignore_index=True)"
   ]
  },
  {
   "cell_type": "code",
   "execution_count": 81,
   "id": "c3586bec-0f3d-4ba5-890b-351cd1384d7a",
   "metadata": {},
   "outputs": [
    {
     "data": {
      "text/html": [
       "<div>\n",
       "<style scoped>\n",
       "    .dataframe tbody tr th:only-of-type {\n",
       "        vertical-align: middle;\n",
       "    }\n",
       "\n",
       "    .dataframe tbody tr th {\n",
       "        vertical-align: top;\n",
       "    }\n",
       "\n",
       "    .dataframe thead th {\n",
       "        text-align: right;\n",
       "    }\n",
       "</style>\n",
       "<table border=\"1\" class=\"dataframe\">\n",
       "  <thead>\n",
       "    <tr style=\"text-align: right;\">\n",
       "      <th></th>\n",
       "      <th>Text</th>\n",
       "      <th>Language</th>\n",
       "    </tr>\n",
       "  </thead>\n",
       "  <tbody>\n",
       "    <tr>\n",
       "      <th>0</th>\n",
       "      <td>Nature, in the broadest sense, is the natural...</td>\n",
       "      <td>English</td>\n",
       "    </tr>\n",
       "    <tr>\n",
       "      <th>1</th>\n",
       "      <td>\"Nature\" can refer to the phenomena of the phy...</td>\n",
       "      <td>English</td>\n",
       "    </tr>\n",
       "    <tr>\n",
       "      <th>2</th>\n",
       "      <td>The study of nature is a large, if not the onl...</td>\n",
       "      <td>English</td>\n",
       "    </tr>\n",
       "    <tr>\n",
       "      <th>3</th>\n",
       "      <td>Although humans are part of nature, human acti...</td>\n",
       "      <td>English</td>\n",
       "    </tr>\n",
       "    <tr>\n",
       "      <th>4</th>\n",
       "      <td>[1] The word nature is borrowed from the Old F...</td>\n",
       "      <td>English</td>\n",
       "    </tr>\n",
       "  </tbody>\n",
       "</table>\n",
       "</div>"
      ],
      "text/plain": [
       "                                                Text Language\n",
       "0   Nature, in the broadest sense, is the natural...  English\n",
       "1  \"Nature\" can refer to the phenomena of the phy...  English\n",
       "2  The study of nature is a large, if not the onl...  English\n",
       "3  Although humans are part of nature, human acti...  English\n",
       "4  [1] The word nature is borrowed from the Old F...  English"
      ]
     },
     "execution_count": 81,
     "metadata": {},
     "output_type": "execute_result"
    }
   ],
   "source": [
    "data.head()"
   ]
  },
  {
   "cell_type": "code",
   "execution_count": 82,
   "id": "e1a772cc-3f0b-489b-80f3-44060cc46683",
   "metadata": {},
   "outputs": [
    {
     "data": {
      "text/plain": [
       "(10337, 2)"
      ]
     },
     "execution_count": 82,
     "metadata": {},
     "output_type": "execute_result"
    }
   ],
   "source": [
    "data.shape"
   ]
  },
  {
   "cell_type": "code",
   "execution_count": 83,
   "id": "8ce92ed0-8067-4510-b8f8-520114b786c6",
   "metadata": {},
   "outputs": [
    {
     "data": {
      "text/plain": [
       "Counter({'English': 1385,\n",
       "         'Malayalam': 594,\n",
       "         'Hindi': 63,\n",
       "         'Tamil': 469,\n",
       "         'Portugeese': 739,\n",
       "         'French': 1014,\n",
       "         'Dutch': 546,\n",
       "         'Spanish': 819,\n",
       "         'Greek': 365,\n",
       "         'Russian': 692,\n",
       "         'Danish': 428,\n",
       "         'Italian': 698,\n",
       "         'Turkish': 474,\n",
       "         'Sweedish': 676,\n",
       "         'Arabic': 536,\n",
       "         'German': 470,\n",
       "         'Kannada': 369})"
      ]
     },
     "execution_count": 83,
     "metadata": {},
     "output_type": "execute_result"
    }
   ],
   "source": [
    "Counter(data.Language)"
   ]
  },
  {
   "cell_type": "code",
   "execution_count": 84,
   "id": "55cec5df-1dcc-4c75-95b0-bf8da74d27dc",
   "metadata": {},
   "outputs": [],
   "source": [
    "lmtzr = WordNetLemmatizer()\n",
    "\n",
    "def text_preprocessing(text):\n",
    "    text = str(text).lower() # lowercase\n",
    "    text = re.sub(r'[{}]'.format(string.punctuation), '', text) #remove '!\"#$%&\\'()*+,-./:;<=>?@[\\\\]^_`{|}~'\n",
    "    text = re.sub(r'\\d+', '', text) # remove  numbers\n",
    "    \n",
    "    sw = stopwords.words('english')\n",
    "    \n",
    "    return ' '.join([lmtzr.lemmatize(word,wordnet.VERB) for word in nltk.word_tokenize(text) if word.lower() not in sw])"
   ]
  },
  {
   "cell_type": "code",
   "execution_count": 10,
   "id": "de55104b-5200-4da2-8c69-3076040db215",
   "metadata": {},
   "outputs": [],
   "source": [
    "data.Text = data.Text.apply(text_preprocessing).copy()"
   ]
  },
  {
   "cell_type": "code",
   "execution_count": 11,
   "id": "c1ba7b5f-add4-4c5d-8f3f-df4af3be93a4",
   "metadata": {},
   "outputs": [
    {
     "data": {
      "text/html": [
       "<div>\n",
       "<style scoped>\n",
       "    .dataframe tbody tr th:only-of-type {\n",
       "        vertical-align: middle;\n",
       "    }\n",
       "\n",
       "    .dataframe tbody tr th {\n",
       "        vertical-align: top;\n",
       "    }\n",
       "\n",
       "    .dataframe thead th {\n",
       "        text-align: right;\n",
       "    }\n",
       "</style>\n",
       "<table border=\"1\" class=\"dataframe\">\n",
       "  <thead>\n",
       "    <tr style=\"text-align: right;\">\n",
       "      <th></th>\n",
       "      <th>Text</th>\n",
       "      <th>Language</th>\n",
       "    </tr>\n",
       "  </thead>\n",
       "  <tbody>\n",
       "    <tr>\n",
       "      <th>0</th>\n",
       "      <td>nature broadest sense natural physical materia...</td>\n",
       "      <td>English</td>\n",
       "    </tr>\n",
       "    <tr>\n",
       "      <th>1</th>\n",
       "      <td>nature refer phenomena physical world also lif...</td>\n",
       "      <td>English</td>\n",
       "    </tr>\n",
       "    <tr>\n",
       "      <th>2</th>\n",
       "      <td>study nature large part science</td>\n",
       "      <td>English</td>\n",
       "    </tr>\n",
       "    <tr>\n",
       "      <th>3</th>\n",
       "      <td>although humans part nature human activity oft...</td>\n",
       "      <td>English</td>\n",
       "    </tr>\n",
       "    <tr>\n",
       "      <th>4</th>\n",
       "      <td>word nature borrow old french nature derive la...</td>\n",
       "      <td>English</td>\n",
       "    </tr>\n",
       "  </tbody>\n",
       "</table>\n",
       "</div>"
      ],
      "text/plain": [
       "                                                Text Language\n",
       "0  nature broadest sense natural physical materia...  English\n",
       "1  nature refer phenomena physical world also lif...  English\n",
       "2                    study nature large part science  English\n",
       "3  although humans part nature human activity oft...  English\n",
       "4  word nature borrow old french nature derive la...  English"
      ]
     },
     "execution_count": 11,
     "metadata": {},
     "output_type": "execute_result"
    }
   ],
   "source": [
    "data.head()"
   ]
  },
  {
   "cell_type": "code",
   "execution_count": 87,
   "id": "f918b3be-5f67-44bd-9f11-9fb949291576",
   "metadata": {},
   "outputs": [],
   "source": [
    "data_list = []\n",
    "\n",
    "# iterating through all the text\n",
    "for text in data.Text:         \n",
    "    text = re.sub(r'[{}]'.format(string.punctuation), '', text)\n",
    "    text = re.sub(r'[[]]', ' ', text)   \n",
    "    text = text.lower()          # converting the text to lower case\n",
    "    data_list.append(text)       # appending to data_list"
   ]
  },
  {
   "cell_type": "code",
   "execution_count": 89,
   "id": "386b5a3d-5f77-4bef-9620-f218f3c22eaf",
   "metadata": {},
   "outputs": [],
   "source": [
    "# data_list"
   ]
  },
  {
   "cell_type": "code",
   "execution_count": null,
   "id": "e851bb19-5a3c-49fc-8eab-1786a03a6bfe",
   "metadata": {},
   "outputs": [],
   "source": [
    "# bags = Counter(np.concatenate(np.array([nltk.word_tokenize(word) for word in data.Text],dtype=object), axis=0))\n",
    "# bags.most_common()"
   ]
  },
  {
   "cell_type": "code",
   "execution_count": 90,
   "id": "5a080de2-cf9a-45d3-a2e7-0b26813868ec",
   "metadata": {},
   "outputs": [],
   "source": [
    "y = data.Language\n",
    "l = LabelEncoder()\n",
    "y = l.fit_transform(y)"
   ]
  },
  {
   "cell_type": "code",
   "execution_count": 92,
   "id": "07394741-2f13-475f-ac5e-38312fbf1ec1",
   "metadata": {},
   "outputs": [
    {
     "data": {
      "text/plain": [
       "(10337, 41343)"
      ]
     },
     "execution_count": 92,
     "metadata": {},
     "output_type": "execute_result"
    }
   ],
   "source": [
    "cv = CountVectorizer() # tokenize a collection of text documents\n",
    "X = cv.fit_transform(data_list).toarray()\n",
    "X.shape # (10337, 39419)"
   ]
  },
  {
   "cell_type": "code",
   "execution_count": 93,
   "id": "3cfb1d56-78c5-46bb-9521-8c018dfd5c0b",
   "metadata": {},
   "outputs": [],
   "source": [
    "x_train, x_test, y_train, y_test = train_test_split(X, y, test_size = 0.20, random_state=42)"
   ]
  },
  {
   "cell_type": "code",
   "execution_count": null,
   "id": "b5a96c80-ca4b-4f37-9a0f-89396a4ca82e",
   "metadata": {},
   "outputs": [],
   "source": [
    "# model = MultinomialNB()\n",
    "# model.fit(x_train, y_train)\n",
    "# y_predict_NB = model.predict(x_test)"
   ]
  },
  {
   "cell_type": "code",
   "execution_count": 51,
   "id": "c8eae3a6-682f-4e86-b320-2807f8bf6ceb",
   "metadata": {},
   "outputs": [],
   "source": [
    "#######################\n",
    "# Logistic Regression #\n",
    "#######################\n",
    "model_LR = LogisticRegression(max_iter=3000)\n",
    "model_LR.fit(x_train, y_train)\n",
    "y_predict_LR = model_LR.predict(x_test)"
   ]
  },
  {
   "cell_type": "code",
   "execution_count": 94,
   "id": "d54cc52a-9354-4d99-bb7e-cedb7fb895f4",
   "metadata": {},
   "outputs": [],
   "source": [
    "##################\n",
    "# Multinomial NB #\n",
    "##################\n",
    "\n",
    "model_NB = MultinomialNB()\n",
    "model_NB.fit(x_train, y_train)\n",
    "y_predict_NB = model_NB.predict(x_test)"
   ]
  },
  {
   "cell_type": "code",
   "execution_count": null,
   "id": "fa195dbc-7b7e-4349-b5c8-8daff289a16b",
   "metadata": {},
   "outputs": [],
   "source": [
    "# ###################\n",
    "# # Multinomial KNN #\n",
    "# ###################\n",
    "# model_KNN = KNeighborsClassifier()\n",
    "# model_KNN.fit(x_train, y_train)\n",
    "# y_predict_KNN = model_KNN.predict(x_test)"
   ]
  },
  {
   "cell_type": "code",
   "execution_count": null,
   "id": "e5278326-de49-4a67-aef6-e6e55f2f3d53",
   "metadata": {},
   "outputs": [],
   "source": [
    "# ###################\n",
    "# # Multinomial SVC #\n",
    "# ###################\n",
    "# model_SVC = SVC()\n",
    "# model_SVC.fit(x_train, y_train)\n",
    "# y_predict_SVC = model_SVC.predict(x_test)"
   ]
  },
  {
   "cell_type": "code",
   "execution_count": null,
   "id": "0151a682-3c68-46c7-8ecf-7968c3b7b1de",
   "metadata": {},
   "outputs": [],
   "source": [
    "# ###################\n",
    "# # Multinomial DTC #\n",
    "# ###################\n",
    "# model_DTC = DecisionTreeClassifier()\n",
    "# model_DTC.fit(x_train, y_train)\n",
    "# y_predict_DTC = model_DTC.predict(x_test)"
   ]
  },
  {
   "cell_type": "code",
   "execution_count": 95,
   "id": "246ec330-207b-4eb5-a48a-3a9183072d24",
   "metadata": {},
   "outputs": [
    {
     "data": {
      "text/html": [
       "<div>\n",
       "<style scoped>\n",
       "    .dataframe tbody tr th:only-of-type {\n",
       "        vertical-align: middle;\n",
       "    }\n",
       "\n",
       "    .dataframe tbody tr th {\n",
       "        vertical-align: top;\n",
       "    }\n",
       "\n",
       "    .dataframe thead th {\n",
       "        text-align: right;\n",
       "    }\n",
       "</style>\n",
       "<table border=\"1\" class=\"dataframe\">\n",
       "  <thead>\n",
       "    <tr style=\"text-align: right;\">\n",
       "      <th></th>\n",
       "      <th>Models</th>\n",
       "      <th>Accuracy</th>\n",
       "    </tr>\n",
       "  </thead>\n",
       "  <tbody>\n",
       "    <tr>\n",
       "      <th>0</th>\n",
       "      <td>Logistic Regression</td>\n",
       "      <td>0.943424</td>\n",
       "    </tr>\n",
       "    <tr>\n",
       "      <th>1</th>\n",
       "      <td>Naive Bayes</td>\n",
       "      <td>0.982592</td>\n",
       "    </tr>\n",
       "  </tbody>\n",
       "</table>\n",
       "</div>"
      ],
      "text/plain": [
       "                Models  Accuracy\n",
       "0  Logistic Regression  0.943424\n",
       "1          Naive Bayes  0.982592"
      ]
     },
     "execution_count": 95,
     "metadata": {},
     "output_type": "execute_result"
    }
   ],
   "source": [
    "models_dataframe=pd.DataFrame({\n",
    "    \"Models\":[\"Logistic Regression\", \"Naive Bayes\" ] ,\n",
    "    \"Accuracy\":[accuracy_score(y_test,y_predict_LR),accuracy_score(y_test,y_predict_NB)]\n",
    "})\n",
    "models_dataframe"
   ]
  },
  {
   "cell_type": "code",
   "execution_count": 98,
   "id": "7e10c596-e9b2-41da-a7c1-8da451a0b5fe",
   "metadata": {},
   "outputs": [],
   "source": [
    "def predict(text):\n",
    "     x = cv.transform([text]).toarray() # converting text to bag of words model (Vector)\n",
    "     lang = model_NB.predict(x) # predicting the language\n",
    "     lang = l.inverse_transform(lang) # finding the language corresponding the the predicted value\n",
    "     print(\"The langauge is in\",lang[0]) # printing the language"
   ]
  },
  {
   "cell_type": "code",
   "execution_count": 103,
   "id": "61f6c1d0-6df8-4c3a-9856-dc6e6e7dfa49",
   "metadata": {},
   "outputs": [
    {
     "name": "stdout",
     "output_type": "stream",
     "text": [
      "The langauge is in English\n"
     ]
    }
   ],
   "source": [
    "predict('People are awesome')"
   ]
  },
  {
   "cell_type": "code",
   "execution_count": 104,
   "id": "6c7bd651-23f4-4d91-9218-939f395ca46b",
   "metadata": {},
   "outputs": [
    {
     "name": "stdout",
     "output_type": "stream",
     "text": [
      "The langauge is in Russian\n"
     ]
    }
   ],
   "source": [
    "predict('привет')"
   ]
  },
  {
   "cell_type": "code",
   "execution_count": 105,
   "id": "d2bcf2d6-808a-4aa2-ad86-b72ce0ddc42f",
   "metadata": {},
   "outputs": [
    {
     "name": "stdout",
     "output_type": "stream",
     "text": [
      "The langauge is in Malayalam\n"
     ]
    }
   ],
   "source": [
    "predict('നൽകുന്നു')"
   ]
  },
  {
   "cell_type": "code",
   "execution_count": 106,
   "id": "7bd82c6e-1fd0-4da3-850a-1260059005de",
   "metadata": {},
   "outputs": [
    {
     "name": "stdout",
     "output_type": "stream",
     "text": [
      "The langauge is in English\n"
     ]
    }
   ],
   "source": [
    "predict('Дакан котак')"
   ]
  },
  {
   "cell_type": "code",
   "execution_count": 107,
   "id": "d4e5da08-81ff-4808-866c-056cd8c3901a",
   "metadata": {},
   "outputs": [
    {
     "name": "stdout",
     "output_type": "stream",
     "text": [
      "The langauge is in English\n",
      "The langauge is in French\n",
      "The langauge is in Arabic\n",
      "The langauge is in Spanish\n",
      "The langauge is in Malayalam\n",
      "The langauge is in Russian\n",
      "The langauge is in Hindi\n",
      "The langauge is in Hindi\n"
     ]
    }
   ],
   "source": [
    "# English\n",
    "predict(\"LANGUAGE DETECTION MODEL CHECK\")\n",
    "# French\n",
    "predict(\"VÉRIFICATION DU MODÈLE DE DÉTECTION DE LA LANGUE\")\n",
    "# Arabic\n",
    "predict(\"توففحص نموذج الكشف عن اللغة\")\n",
    "# Spanish\n",
    "predict(\"VERIFICACIÓN DEL MODELO DE DETECCIÓN DE IDIOMAS\")\n",
    "# Malayalam\n",
    "predict(\"ലാംഗ്വേജ് ഡിറ്റക്ഷൻ മോഡൽ ചെക്ക്\")\n",
    "# Russian\n",
    "predict(\"ПРОВЕРКА МОДЕЛИ ОПРЕДЕЛЕНИЯ ЯЗЫКА\")\n",
    "# Hindi\n",
    "predict('भाषा का पता लगाने वाले मॉडल की जांच')\n",
    "# Hindi\n",
    "predict(' boyit9h एनालिटिक्स alhgserog 90980879809 bguytfivb ahgseporiga प्रदान करता है')"
   ]
  },
  {
   "cell_type": "code",
   "execution_count": 113,
   "id": "54b91e55-b23a-4682-a4e9-7f8eeb4ea295",
   "metadata": {},
   "outputs": [
    {
     "name": "stdout",
     "output_type": "stream",
     "text": [
      "The langauge is in English\n"
     ]
    }
   ],
   "source": [
    "predict(\"я купил машину\")\n",
    "\n"
   ]
  },
  {
   "cell_type": "code",
   "execution_count": null,
   "id": "cd96f755-83a0-4227-9488-4978c7c733d6",
   "metadata": {},
   "outputs": [],
   "source": []
  }
 ],
 "metadata": {
  "kernelspec": {
   "display_name": "Python 3 (ipykernel)",
   "language": "python",
   "name": "python3"
  },
  "language_info": {
   "codemirror_mode": {
    "name": "ipython",
    "version": 3
   },
   "file_extension": ".py",
   "mimetype": "text/x-python",
   "name": "python",
   "nbconvert_exporter": "python",
   "pygments_lexer": "ipython3",
   "version": "3.9.6"
  }
 },
 "nbformat": 4,
 "nbformat_minor": 5
}
